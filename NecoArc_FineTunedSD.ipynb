{
  "nbformat": 4,
  "nbformat_minor": 0,
  "metadata": {
    "colab": {
      "provenance": [],
      "gpuType": "T4",
      "toc_visible": true,
      "mount_file_id": "1oPDAgH6X8LVMuPtYCNUrV8U-DbDBOQa-",
      "authorship_tag": "ABX9TyMQPL14UCuqN88HuVaOK2dA",
      "include_colab_link": true
    },
    "kernelspec": {
      "name": "python3",
      "display_name": "Python 3"
    },
    "language_info": {
      "name": "python"
    },
    "accelerator": "GPU"
  },
  "cells": [
    {
      "cell_type": "markdown",
      "metadata": {
        "id": "view-in-github",
        "colab_type": "text"
      },
      "source": [
        "<a href=\"https://colab.research.google.com/github/abbyrana/TextToImageAi/blob/main/NecoArc_FineTunedSD.ipynb\" target=\"_parent\"><img src=\"https://colab.research.google.com/assets/colab-badge.svg\" alt=\"Open In Colab\"/></a>"
      ]
    },
    {
      "cell_type": "markdown",
      "source": [
        "\n",
        "\n",
        "# Introduction\n",
        "\n",
        "This is a fine tuned Stable Diffusion 1.5 text to image model to generate Neco Arc images a popular anime Cat Mascot. The model identifies the sring `zxc`  as `Neco Arc`.\n",
        "\n",
        "Purpose of this Collab Notebook is to host the model on Google's cloud GPU for free and use it in a Gradio interference.\n",
        "\n",
        "The following code will generate two links , local and public. After the link has been generated you must use the `public link` to use the model.\n",
        "\n",
        "# IMPORTANT: Make Sure to Connect to a GPU runtime\n",
        "for example: `T4`, `L4`, `A100`"
      ],
      "metadata": {
        "id": "Vr-Ihl5Zaxrg"
      }
    },
    {
      "cell_type": "markdown",
      "source": [
        "## Step 1: Run the following code, will take 5-10 minutes."
      ],
      "metadata": {
        "id": "oItgfh4H5buM"
      }
    },
    {
      "cell_type": "code",
      "execution_count": null,
      "metadata": {
        "id": "1dWvWequ4oiQ"
      },
      "outputs": [],
      "source": [
        "!git clone https://huggingface.co/spaces/abhijitrana/zxc_NecoArc_StableDiffusion1.5_FineTunedModel\n",
        "%cd /content/zxc_NecoArc_StableDiffusion1.5_FineTunedModel\n",
        "!pip install -r requirements.txt\n",
        "!pip install gradio\n",
        "!python app.py"
      ]
    },
    {
      "cell_type": "markdown",
      "source": [
        "## Step 2: Click the `public url` in generated in the above console to use the model in a Gradio GUI.\n",
        "Note: Make sure to scroll down to the end of the above output block"
      ],
      "metadata": {
        "id": "_Bh-s4b-pXQk"
      }
    }
  ]
}